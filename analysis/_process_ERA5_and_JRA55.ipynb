{
 "cells": [
  {
   "cell_type": "code",
   "execution_count": 1,
   "id": "b835f477-77a5-4b2b-8bd5-07fa60f156bf",
   "metadata": {},
   "outputs": [
    {
     "data": {
      "text/plain": [
       "<module 'asym_funcs' from '/glade/u/home/lettier/analysis/analysis_temp-asym/pub/analysis/./../asym_funcs.py'>"
      ]
     },
     "execution_count": 1,
     "metadata": {},
     "output_type": "execute_result"
    }
   ],
   "source": [
    "import numpy as np\n",
    "import xarray as xr\n",
    "import matplotlib.pyplot as plt\n",
    "import os\n",
    "import pandas as pd\n",
    "from scipy import stats\n",
    "xr.set_options(keep_attrs=True)\n",
    "import sys\n",
    "sys.path.insert(1, './../')\n",
    "import asym_funcs as af\n",
    "import cartopy.crs as ccrs\n",
    "import importlib\n",
    "importlib.reload(af)"
   ]
  },
  {
   "cell_type": "code",
   "execution_count": 2,
   "id": "1eaa95ac-13b3-4c14-85e1-796797eca0ba",
   "metadata": {},
   "outputs": [],
   "source": [
    "mydir = '/glade/scratch/lettier/ERA5/daily_2t/'\n",
    "yeari, yeare = 1979, 2018\n",
    "# gridboxmean 8, 8 applied\n",
    "listds = []\n",
    "for year in np.arange(yeari,yeare+1,1):\n",
    "    ds = xr.open_dataset(mydir+'/gridboxmean/e5.oper.an.sfc.128_167_2t.ll025sc.'+str(year)+'.gridboxmean.nc',cache=False)[['VAR_2T']]\n",
    "    ds['year'] = year\n",
    "    ds = af.fix_lp_yr(ds)\n",
    "    ds['time'] = np.arange(1,366,1)\n",
    "    ds = ds.set_coords('year')\n",
    "    listds.append(ds)\n",
    "ds = xr.concat(listds,dim='year').mean(dim='year').rename({'time':'dayofyear'})\n",
    "ds.to_netcdf('../obsdata/daily_TREFHT_ERA5_1979-2018mean_zonalvariations.nc')"
   ]
  },
  {
   "cell_type": "code",
   "execution_count": 3,
   "id": "3b818b51-0abb-4968-a64c-a23422865641",
   "metadata": {},
   "outputs": [],
   "source": [
    "mydir = '/glade/scratch/lettier/JRA55/daily_2t/'\n",
    "listds = []\n",
    "for year in np.arange(1979,2018+1,1):\n",
    "    ds = xr.open_dataset(mydir+'/gridboxmean/anl_surf.011_tmp.reg_tl319.'+str(year)+'.nc',cache=False)[['t2m']].rename({'t2m':'VAR_2T'})\n",
    "    ds['year'] = year\n",
    "    ds['time'] = np.arange(1,366,1)\n",
    "    ds = ds.set_coords('year')\n",
    "    listds.append(ds)\n",
    "ds = xr.concat(listds,dim='year').mean(dim='year').mean(dim='lon').rename({'time':'dayofyear'})\n",
    "ds.to_netcdf('../obsdata/daily_TREFHT_JRA55_1979-2018mean.nc')"
   ]
  },
  {
   "cell_type": "code",
   "execution_count": 4,
   "id": "731f2113-4f47-4435-8420-2e976e6912c3",
   "metadata": {},
   "outputs": [],
   "source": [
    "mydir = '/glade/scratch/lettier/ERA5/daily_2t/'\n",
    "yeari, yeare = 1979, 2018\n",
    "# gridboxmean 8, 8 applied\n",
    "listds = []\n",
    "for year in np.arange(yeari,yeare+1,1):\n",
    "    ds = xr.open_dataset(mydir+'/gridboxmean/e5.oper.an.sfc.128_167_2t.ll025sc.'+str(year)+'.gridboxmean.nc',cache=False)[['VAR_2T']]\n",
    "    ds['year'] = year\n",
    "    ds = af.fix_lp_yr(ds)\n",
    "    ds['time'] = np.arange(1,366,1)\n",
    "    ds = ds.set_coords('year')\n",
    "    listds.append(ds)\n",
    "ds = xr.concat(listds,dim='year').mean(dim='year').mean(dim='lon').rename({'time':'dayofyear'})\n",
    "ds.to_netcdf('../obsdata/daily_TREFHT_ERA5_1979-2018mean.nc')"
   ]
  },
  {
   "cell_type": "code",
   "execution_count": null,
   "id": "30900b25-b5bc-4979-bb4a-b77acabed571",
   "metadata": {},
   "outputs": [],
   "source": []
  }
 ],
 "metadata": {
  "kernelspec": {
   "display_name": "Python [conda env:anaconda3-myenv]",
   "language": "python",
   "name": "conda-env-anaconda3-myenv-py"
  },
  "language_info": {
   "codemirror_mode": {
    "name": "ipython",
    "version": 3
   },
   "file_extension": ".py",
   "mimetype": "text/x-python",
   "name": "python",
   "nbconvert_exporter": "python",
   "pygments_lexer": "ipython3",
   "version": "3.8.13"
  }
 },
 "nbformat": 4,
 "nbformat_minor": 5
}
