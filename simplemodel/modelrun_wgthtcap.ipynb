{
 "cells": [
  {
   "cell_type": "code",
   "execution_count": 1,
   "id": "0457f366-2d29-402b-8908-527011afbf52",
   "metadata": {},
   "outputs": [],
   "source": [
    "import numpy as np\n",
    "import xarray as xr\n",
    "import matplotlib.pyplot as plt\n",
    "import sys\n",
    "sys.path.insert(1, '.././')\n",
    "import asym_funcs as af\n",
    "import os"
   ]
  },
  {
   "cell_type": "code",
   "execution_count": 2,
   "id": "db7dc10f-1bc2-4a89-839a-22fb6e67090d",
   "metadata": {},
   "outputs": [],
   "source": [
    "datadir = './output/'"
   ]
  },
  {
   "cell_type": "code",
   "execution_count": 3,
   "id": "75036863-c49d-4316-b17e-ef3be06619de",
   "metadata": {},
   "outputs": [],
   "source": [
    "# Modify function to allow latitudinal variations in heat capacity"
   ]
  },
  {
   "cell_type": "code",
   "execution_count": 4,
   "id": "6bdba77a-f808-4c8c-a229-d68aa396a706",
   "metadata": {},
   "outputs": [],
   "source": [
    "def simple_model (nspace=800, nts=1000, mysolar=0., mycw=9.8, myA=138.6, dur=100, myFb=5., myB=2.1, forc_xt = 0.):\n",
    "    \"\"\"\n",
    "    Run the simple model globally. Can vary parameters, resolution and run length as input to this function\n",
    "    \"\"\"                                                                                                                                                                                                                                  \n",
    "    # Physical parameters\n",
    "    S1 = 338.;     # insolation seasonal dependence (W m^-2)\n",
    "    A  = myA #193  # OLR when T = 0 (W m^-2)\n",
    "    B  = myB #2.1  # OLR temperature dependence (W m^-2 K^-1)\n",
    "    cw = mycw      # ocean mixed layer heat capacity (W yr m^-2 K^-1)\n",
    "    S0 = 420.      # insolation at equator  (W m^-2)\n",
    "    S2 = 240.      # insolation spatial dependence (W m^-2)\n",
    "    a0 = 0.7       # ice-free co-albedo at equator\n",
    "    a2 = 0.1       # ice=free co-albedo spatial dependence\n",
    "    Fb = myFb #4   # heat flux from ocean below (W m^-2)\n",
    "  \n",
    "    # Time stepping parameters\n",
    "    #dur          # of years for the whole run\n",
    "    n  = nspace;  # of evenly spaced latitudinal gridboxes (pole to pole)\n",
    "    nt = nts;     # of timesteps per year (approx lower limit of stability) \n",
    "    dt = 1/nt;\n",
    "    ty = np.arange(dt/2,1+dt/2,dt)\n",
    "    print(cw.shape)\n",
    "    print(\"Arguments: nx = {0}, nt = {1}, duration = {2} years\".format(nspace,nts,dur))\n",
    "    print(\"Parameters:  A = {}, Fb = {}, B = {}\".format(A, Fb, B))\n",
    "    print(\"Forcing: solar {}, additional {}\".format(np.max(np.abs(mysolar==0.))>0, np.max(np.abs(forc_xt))>0))\n",
    "    \n",
    "    #Spatial Grid -------------------------------------------------------------\n",
    "    dx = 2.0/n    #grid box width\n",
    "    x = np.arange(-1+dx/2,1+dx/2,dx) #native grid\n",
    "    lat = np.arcsin(x)*180./np.pi\n",
    "  \n",
    "    ##Seasonal forcing (WE15 eq.3)\n",
    "    if np.all(mysolar==0.): # if an insolation field is not provided, use the idealized function\n",
    "        S = (np.tile(S0-S2*x**2,[nt,1])- np.tile(S1*np.cos(2*np.pi*ty),[n,1]).T*np.tile(x,[nt,1])); \n",
    "    else:\n",
    "        S = mysolar.T\n",
    "    S = np.vstack((S,S[0,:]))\n",
    "    \n",
    "    Amod = np.zeros([nt,n])\n",
    "    if np.all(forc_xt == 0.):\n",
    "        Amod[:,:] = A\n",
    "    else:\n",
    "        Amod[:,:] = - forc_xt[:,:].T + A\n",
    "    Amod = np.vstack((Amod,Amod[0,:]))\n",
    "      \n",
    "    alpha = a0-a2*x**2      # open water albedo\n",
    "\n",
    "    #Set up output arrays, saving all timesteps of all years\n",
    "    Tfin  = np.zeros([dur,nt,n])\n",
    "   \n",
    "    #Initial conditions ------------------------------------------------------\n",
    "    T = 7.5+20*(1-2*x**2);\n",
    "    \n",
    "    #Loop over Years ---------------------------------------------------------\n",
    "    for years in range(0,dur):\n",
    "        #Loop within One Year-------------------------------------------------\n",
    "        for i in range(0,int(nt)):\n",
    "            \n",
    "            #forcing\n",
    "            T = T + (dt/cw[:])*(alpha*S[i+1] - (Amod[i+1]+B*T)+Fb)                \n",
    "            Tfin[years,i,:] = T\n",
    "                   \n",
    "    T_all = xr.DataArray(Tfin,dims=('year','time','lat'),coords = {'year':np.arange(1,dur+1,1), 'time':ty, 'lat':lat}).to_dataset(name='T')\n",
    "    \n",
    "    return T_all"
   ]
  },
  {
   "cell_type": "code",
   "execution_count": 5,
   "id": "6fac6d76-3244-41d4-8e1a-f0cbd8735c3f",
   "metadata": {},
   "outputs": [],
   "source": [
    "sol = xr.open_dataset('forcingdata/forcing_TOAinsolation_n800.nc').S.values\n",
    "heatcap = xr.open_dataset('forcingdata/zonal_variation_in_cw_n800.nc')"
   ]
  },
  {
   "cell_type": "code",
   "execution_count": 6,
   "id": "51b87a6c-16ed-4d1b-9ea7-a25efba79135",
   "metadata": {},
   "outputs": [
    {
     "name": "stdout",
     "output_type": "stream",
     "text": [
      "(800,)\n",
      "Arguments: nx = 800, nt = 1000, duration = 100 years\n",
      "Parameters:  A = 138.6, Fb = 5.0, B = 2.1\n",
      "Forcing: solar True, additional False\n"
     ]
    }
   ],
   "source": [
    "ds = simple_model(mysolar=sol, mycw = heatcap.c.values)\n",
    "myname = 'ODEn800_TOAinsolation_wgtheatcap'\n",
    "ds['names'] = myname\n",
    "ds = ds.set_coords('names')\n",
    "ds = ds.isel(year=slice(-20,None)).mean(dim='year')\n",
    "ds.to_netcdf(datadir+myname+'.nc')"
   ]
  }
 ],
 "metadata": {
  "kernelspec": {
   "display_name": "Python [conda env:anaconda3-env22]",
   "language": "python",
   "name": "conda-env-anaconda3-env22-py"
  },
  "language_info": {
   "codemirror_mode": {
    "name": "ipython",
    "version": 3
   },
   "file_extension": ".py",
   "mimetype": "text/x-python",
   "name": "python",
   "nbconvert_exporter": "python",
   "pygments_lexer": "ipython3",
   "version": "3.9.7"
  }
 },
 "nbformat": 4,
 "nbformat_minor": 5
}
